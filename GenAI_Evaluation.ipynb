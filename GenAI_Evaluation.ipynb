{
  "nbformat": 4,
  "nbformat_minor": 0,
  "metadata": {
    "colab": {
      "provenance": []
    },
    "kernelspec": {
      "name": "python3",
      "display_name": "Python 3"
    },
    "language_info": {
      "name": "python"
    }
  },
  "cells": [
    {
      "cell_type": "markdown",
      "source": [
        "# GenAI course - Evaluation\n"
      ],
      "metadata": {
        "id": "KkqG9qXZvFU2"
      }
    },
    {
      "cell_type": "markdown",
      "source": [
        "## Use pre-trained model"
      ],
      "metadata": {
        "id": "UW7AzWBZvJus"
      }
    },
    {
      "cell_type": "markdown",
      "source": [
        "Select a specific task involving image or text generation: image transformation, translation, summarisation, Q&A."
      ],
      "metadata": {
        "id": "YgsXZBs_vOj0"
      }
    },
    {
      "cell_type": "markdown",
      "source": [
        "Find a dataset with annotated data corresponding to your selected task and load it."
      ],
      "metadata": {
        "id": "39p_RqjVva0w"
      }
    },
    {
      "cell_type": "code",
      "source": [],
      "metadata": {
        "id": "KyzxBJn0v-qI"
      },
      "execution_count": null,
      "outputs": []
    },
    {
      "cell_type": "markdown",
      "source": [
        "Divide the dataset into a train and a test set."
      ],
      "metadata": {
        "id": "WDOFuMS9wzD_"
      }
    },
    {
      "cell_type": "code",
      "source": [],
      "metadata": {
        "id": "hbQHGRXBw20r"
      },
      "execution_count": null,
      "outputs": []
    },
    {
      "cell_type": "markdown",
      "source": [
        "Find a pre-trained model on the hugging face hub suitable for the selected task and load it."
      ],
      "metadata": {
        "id": "e3CSPEoRv_IP"
      }
    },
    {
      "cell_type": "code",
      "source": [],
      "metadata": {
        "id": "bOpB9pfxwMcc"
      },
      "execution_count": null,
      "outputs": []
    },
    {
      "cell_type": "markdown",
      "source": [
        "Select the appropriate metrics to evaluate the considered task."
      ],
      "metadata": {
        "id": "vFew9qLiwM06"
      }
    },
    {
      "cell_type": "markdown",
      "source": [
        "Use the selected metrics to evalute the model on your test set."
      ],
      "metadata": {
        "id": "ul2nZekwwYKK"
      }
    },
    {
      "cell_type": "code",
      "source": [],
      "metadata": {
        "id": "42lphqdMwYa1"
      },
      "execution_count": null,
      "outputs": []
    },
    {
      "cell_type": "markdown",
      "source": [
        "Comment the results."
      ],
      "metadata": {
        "id": "MnOdJij_wldq"
      }
    },
    {
      "cell_type": "markdown",
      "source": [
        "## Model fine-tuning"
      ],
      "metadata": {
        "id": "p7auRf5LwnfZ"
      }
    },
    {
      "cell_type": "markdown",
      "source": [
        "Use the train set to fine-tune the pre-trained model."
      ],
      "metadata": {
        "id": "XsbmBaCww8DA"
      }
    },
    {
      "cell_type": "code",
      "source": [],
      "metadata": {
        "id": "Xq3ZH339wpMy"
      },
      "execution_count": null,
      "outputs": []
    },
    {
      "cell_type": "markdown",
      "source": [
        "Use the selected metrics to evalute the fine-tuned model on your test set."
      ],
      "metadata": {
        "id": "MIZPTInDxC8g"
      }
    },
    {
      "cell_type": "code",
      "source": [],
      "metadata": {
        "id": "s6LWj5lBxG_1"
      },
      "execution_count": null,
      "outputs": []
    },
    {
      "cell_type": "markdown",
      "source": [
        "Comment the results."
      ],
      "metadata": {
        "id": "GXEUa7odxHRJ"
      }
    },
    {
      "cell_type": "markdown",
      "source": [
        "## To go further"
      ],
      "metadata": {
        "id": "Cjxu4ZkixJWi"
      }
    },
    {
      "cell_type": "markdown",
      "source": [
        "Explore how to implement a model from scrath and train it on your train set."
      ],
      "metadata": {
        "id": "3Von81CKxV7l"
      }
    },
    {
      "cell_type": "code",
      "source": [],
      "metadata": {
        "id": "CBS8UpIMxbv-"
      },
      "execution_count": null,
      "outputs": []
    },
    {
      "cell_type": "markdown",
      "source": [
        "Use the selected metrics to evalute the model trained from scratch on your test set."
      ],
      "metadata": {
        "id": "YiqfFtZ3xcEB"
      }
    },
    {
      "cell_type": "code",
      "source": [],
      "metadata": {
        "id": "QEbHH6mIxjm2"
      },
      "execution_count": null,
      "outputs": []
    },
    {
      "cell_type": "markdown",
      "source": [
        "Comment the results."
      ],
      "metadata": {
        "id": "Vx08v21SxlIB"
      }
    }
  ]
}